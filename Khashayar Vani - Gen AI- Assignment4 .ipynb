{
 "cells": [
  {
   "cell_type": "markdown",
   "id": "f9f53a1f",
   "metadata": {},
   "source": [
    "Pre Intro) \n",
    "\n",
    "**First of all, I installed the libraries such as: torch, numpy, matplotlib, tqdm, nltk, pandas, ( I have already Pandas and Matplotlib, due to having assignment in Machine Learning course as well).  My kernel is also Python 3.13.5)"
   ]
  },
  {
   "cell_type": "code",
   "execution_count": 3,
   "id": "ee4d3827",
   "metadata": {},
   "outputs": [
    {
     "name": "stdout",
     "output_type": "stream",
     "text": [
      "Requirement already satisfied: torch in /opt/anaconda3/lib/python3.13/site-packages (2.8.0)\n",
      "Requirement already satisfied: filelock in /opt/anaconda3/lib/python3.13/site-packages (from torch) (3.17.0)\n",
      "Requirement already satisfied: typing-extensions>=4.10.0 in /opt/anaconda3/lib/python3.13/site-packages (from torch) (4.12.2)\n",
      "Requirement already satisfied: setuptools in /opt/anaconda3/lib/python3.13/site-packages (from torch) (72.1.0)\n",
      "Requirement already satisfied: sympy>=1.13.3 in /opt/anaconda3/lib/python3.13/site-packages (from torch) (1.13.3)\n",
      "Requirement already satisfied: networkx in /opt/anaconda3/lib/python3.13/site-packages (from torch) (3.4.2)\n",
      "Requirement already satisfied: jinja2 in /opt/anaconda3/lib/python3.13/site-packages (from torch) (3.1.6)\n",
      "Requirement already satisfied: fsspec in /opt/anaconda3/lib/python3.13/site-packages (from torch) (2025.3.0)\n",
      "Requirement already satisfied: mpmath<1.4,>=1.1.0 in /opt/anaconda3/lib/python3.13/site-packages (from sympy>=1.13.3->torch) (1.3.0)\n",
      "Requirement already satisfied: MarkupSafe>=2.0 in /opt/anaconda3/lib/python3.13/site-packages (from jinja2->torch) (3.0.2)\n",
      "Note: you may need to restart the kernel to use updated packages.\n"
     ]
    }
   ],
   "source": [
    "pip install torch"
   ]
  },
  {
   "cell_type": "code",
   "execution_count": 4,
   "id": "c3c91b46",
   "metadata": {},
   "outputs": [
    {
     "name": "stdout",
     "output_type": "stream",
     "text": [
      "Requirement already satisfied: numpy in /opt/anaconda3/lib/python3.13/site-packages (2.1.3)\n",
      "Note: you may need to restart the kernel to use updated packages.\n"
     ]
    }
   ],
   "source": [
    "pip install numpy\n"
   ]
  },
  {
   "cell_type": "code",
   "execution_count": 5,
   "id": "f795662b",
   "metadata": {},
   "outputs": [
    {
     "name": "stdout",
     "output_type": "stream",
     "text": [
      "Requirement already satisfied: matplotlib in /opt/anaconda3/lib/python3.13/site-packages (3.10.0)\n",
      "Requirement already satisfied: contourpy>=1.0.1 in /opt/anaconda3/lib/python3.13/site-packages (from matplotlib) (1.3.1)\n",
      "Requirement already satisfied: cycler>=0.10 in /opt/anaconda3/lib/python3.13/site-packages (from matplotlib) (0.11.0)\n",
      "Requirement already satisfied: fonttools>=4.22.0 in /opt/anaconda3/lib/python3.13/site-packages (from matplotlib) (4.55.3)\n",
      "Requirement already satisfied: kiwisolver>=1.3.1 in /opt/anaconda3/lib/python3.13/site-packages (from matplotlib) (1.4.8)\n",
      "Requirement already satisfied: numpy>=1.23 in /opt/anaconda3/lib/python3.13/site-packages (from matplotlib) (2.1.3)\n",
      "Requirement already satisfied: packaging>=20.0 in /opt/anaconda3/lib/python3.13/site-packages (from matplotlib) (24.2)\n",
      "Requirement already satisfied: pillow>=8 in /opt/anaconda3/lib/python3.13/site-packages (from matplotlib) (11.1.0)\n",
      "Requirement already satisfied: pyparsing>=2.3.1 in /opt/anaconda3/lib/python3.13/site-packages (from matplotlib) (3.2.0)\n",
      "Requirement already satisfied: python-dateutil>=2.7 in /opt/anaconda3/lib/python3.13/site-packages (from matplotlib) (2.9.0.post0)\n",
      "Requirement already satisfied: six>=1.5 in /opt/anaconda3/lib/python3.13/site-packages (from python-dateutil>=2.7->matplotlib) (1.17.0)\n",
      "Note: you may need to restart the kernel to use updated packages.\n"
     ]
    }
   ],
   "source": [
    "pip install matplotlib"
   ]
  },
  {
   "cell_type": "code",
   "execution_count": 1,
   "id": "86f466ef",
   "metadata": {},
   "outputs": [
    {
     "name": "stdout",
     "output_type": "stream",
     "text": [
      "Requirement already satisfied: tqdm in /opt/anaconda3/lib/python3.13/site-packages (4.67.1)\n",
      "Note: you may need to restart the kernel to use updated packages.\n"
     ]
    }
   ],
   "source": [
    "pip install tqdm\n"
   ]
  },
  {
   "cell_type": "code",
   "execution_count": 3,
   "id": "b4071a3a",
   "metadata": {},
   "outputs": [
    {
     "name": "stdout",
     "output_type": "stream",
     "text": [
      "Requirement already satisfied: nltk in /opt/anaconda3/lib/python3.13/site-packages (3.9.1)\n",
      "Requirement already satisfied: click in /opt/anaconda3/lib/python3.13/site-packages (from nltk) (8.1.8)\n",
      "Requirement already satisfied: joblib in /opt/anaconda3/lib/python3.13/site-packages (from nltk) (1.4.2)\n",
      "Requirement already satisfied: regex>=2021.8.3 in /opt/anaconda3/lib/python3.13/site-packages (from nltk) (2024.11.6)\n",
      "Requirement already satisfied: tqdm in /opt/anaconda3/lib/python3.13/site-packages (from nltk) (4.67.1)\n",
      "Note: you may need to restart the kernel to use updated packages.\n"
     ]
    }
   ],
   "source": [
    "pip install nltk"
   ]
  },
  {
   "cell_type": "code",
   "execution_count": 4,
   "id": "2f851bd8",
   "metadata": {},
   "outputs": [
    {
     "name": "stdout",
     "output_type": "stream",
     "text": [
      "Requirement already satisfied: pandas in /opt/anaconda3/lib/python3.13/site-packages (2.2.3)\n",
      "Requirement already satisfied: numpy>=1.26.0 in /opt/anaconda3/lib/python3.13/site-packages (from pandas) (2.1.3)\n",
      "Requirement already satisfied: python-dateutil>=2.8.2 in /opt/anaconda3/lib/python3.13/site-packages (from pandas) (2.9.0.post0)\n",
      "Requirement already satisfied: pytz>=2020.1 in /opt/anaconda3/lib/python3.13/site-packages (from pandas) (2024.1)\n",
      "Requirement already satisfied: tzdata>=2022.7 in /opt/anaconda3/lib/python3.13/site-packages (from pandas) (2025.2)\n",
      "Requirement already satisfied: six>=1.5 in /opt/anaconda3/lib/python3.13/site-packages (from python-dateutil>=2.8.2->pandas) (1.17.0)\n",
      "Note: you may need to restart the kernel to use updated packages.\n"
     ]
    }
   ],
   "source": [
    "pip install pandas"
   ]
  },
  {
   "cell_type": "markdown",
   "id": "5028fd51",
   "metadata": {},
   "source": [
    "1) Import Libraries"
   ]
  },
  {
   "cell_type": "code",
   "execution_count": 5,
   "id": "b939f449",
   "metadata": {},
   "outputs": [
    {
     "name": "stderr",
     "output_type": "stream",
     "text": [
      "[nltk_data] Downloading package punkt to /Users/khasha/nltk_data...\n",
      "[nltk_data]   Unzipping tokenizers/punkt.zip.\n"
     ]
    }
   ],
   "source": [
    "\n",
    "import math\n",
    "import os\n",
    "import random\n",
    "import time\n",
    "import json\n",
    "from dataclasses import dataclass\n",
    "from typing import List, Tuple, Dict, Optional\n",
    "\n",
    "import numpy as np\n",
    "import torch\n",
    "import torch.nn as nn\n",
    "import torch.nn.functional as F\n",
    "from torch.utils.data import Dataset, DataLoader\n",
    "from tqdm import tqdm\n",
    "\n",
    "import matplotlib.pyplot as plt\n",
    "import pandas as pd\n",
    "\n",
    "import nltk\n",
    "try:\n",
    "    nltk.data.find(\"tokenizers/punkt\")\n",
    "except LookupError:\n",
    "    nltk.download(\"punkt\")\n"
   ]
  },
  {
   "cell_type": "markdown",
   "id": "c7560613",
   "metadata": {},
   "source": [
    "2) Config (I changed the size as you mentioned before for having better performance, so I changed them to small scale)"
   ]
  },
  {
   "cell_type": "code",
   "execution_count": 8,
   "id": "0cc1c333",
   "metadata": {},
   "outputs": [
    {
     "data": {
      "text/plain": [
       "'cpu'"
      ]
     },
     "execution_count": 8,
     "metadata": {},
     "output_type": "execute_result"
    }
   ],
   "source": [
    "\n",
    "@dataclass\n",
    "class Config:\n",
    "    seed: int = 22\n",
    "    device: str = \"cuda\" if torch.cuda.is_available() else \"cpu\"\n",
    "    # data\n",
    "    use_builtin_tiny_corpus: bool = True  # if False, tries tiny wikitext-2 via datasets\n",
    "    context_len: int = 32\n",
    "    train_frac: float = 0.7\n",
    "    # model\n",
    "    vocab_size: int = 0  # filled after building tokenizer\n",
    "    d_model: int = 64\n",
    "    n_heads: int = 2\n",
    "    n_layers: int = 1\n",
    "    dropout: float = 0.2\n",
    "    # optimization\n",
    "    batch_size: int = 32\n",
    "    lr: float = 3e-3\n",
    "    max_steps_pretrain: int = 500\n",
    "    max_steps_sft: int = 500\n",
    "    max_steps_rl: int = 100  # tiny on purpose\n",
    "    eval_every: int = 25\n",
    "    # generation\n",
    "    temperature: float = 0.7\n",
    "    top_k: Optional[int] = 25\n",
    "\n",
    "CFG = Config()\n",
    "random.seed(CFG.seed)\n",
    "np.random.seed(CFG.seed)\n",
    "torch.manual_seed(CFG.seed)\n",
    "if torch.cuda.is_available():\n",
    "    torch.cuda.manual_seed_all(CFG.seed)\n",
    "\n",
    "CFG.device\n"
   ]
  },
  {
   "cell_type": "markdown",
   "id": "a8b0aafb",
   "metadata": {},
   "source": [
    "2) Data: Pre-Training , SFT\n",
    "Dataset: wikitext"
   ]
  },
  {
   "cell_type": "code",
   "execution_count": 12,
   "id": "43b6b119",
   "metadata": {},
   "outputs": [
    {
     "name": "stdout",
     "output_type": "stream",
     "text": [
      "= Valkyria Chronicles III = \n",
      "\n",
      "\n",
      " Senjō no Valkyria 3 : Unrecorded Chronicles ( Japanese : 戦場のヴァルキュリア3 ...\n"
     ]
    }
   ],
   "source": [
    "\n",
    "BUILTIN_TINY_TEXT = \"From fairest creatures we desire increase,\\nThat thereby beauty's rose might never die,\\nBut as the riper should by time decease,\\nHis tender heir might bear his memory:\\nBut thou contracted to thine own bright eyes,\\nFeed'st thy light'st flame with self-substantial fuel,\\nMaking a famine where abundance lies,\\nThy self thy foe, to thy sweet self too cruel:\"\n",
    "\n",
    "def load_corpus(use_builtin: bool = True) -> str:\n",
    "    \"\"\"Return a small training corpus.\"\"\"\n",
    "    if use_builtin:\n",
    "        return BUILTIN_TINY_TEXT.strip()\n",
    "    else:\n",
    "        try:\n",
    "            from datasets import load_dataset\n",
    "            ds = load_dataset(\"wikitext\", \"wikitext-2-raw-v1\")\n",
    "            # concatenate first N lines to keep it tiny\n",
    "            lines = ds['train']['text'][:100]\n",
    "            return \"\\n\".join([l for l in lines if l is not None]).strip()\n",
    "        except Exception as e:\n",
    "            print(\"Falling back to builtin tiny text due to:\", e)\n",
    "            return BUILTIN_TINY_TEXT.strip()\n",
    "\n",
    "# corpus_text = load_corpus(use_builtin = True)\n",
    "corpus_text = load_corpus(use_builtin = False)\n",
    "\n",
    "print(corpus_text[:100], \"...\")\n"
   ]
  },
  {
   "cell_type": "markdown",
   "id": "4f212578",
   "metadata": {},
   "source": [
    "\n",
    "### 2.1 Character Tokenizer\n",
    "A simple **character-level** tokenizer keeps things very light-weight.\n"
   ]
  },
  {
   "cell_type": "code",
   "execution_count": 14,
   "id": "ab0e2c92",
   "metadata": {},
   "outputs": [
    {
     "name": "stdout",
     "output_type": "stream",
     "text": [
      "CFG.vocab_size: 125\n",
      "CFG.top_k: 20\n"
     ]
    }
   ],
   "source": [
    "\n",
    "class CharTokenizer:\n",
    "    def __init__(self, text: str):\n",
    "        vocab = sorted(set(text))\n",
    "        self.stoi = {ch: i for i, ch in enumerate(vocab)}\n",
    "        self.itos = {i: ch for ch, i in self.stoi.items()}\n",
    "        self.vocab_size = len(vocab)\n",
    "\n",
    "    def encode(self, s: str) -> List[int]:\n",
    "        return [self.stoi[c] for c in s if c in self.stoi]\n",
    "\n",
    "    def decode(self, ids: List[int]) -> str:\n",
    "        return \"\".join(self.itos[i] for i in ids)\n",
    "\n",
    "tokenizer = CharTokenizer(corpus_text)\n",
    "CFG.vocab_size = tokenizer.vocab_size\n",
    "print(f\"CFG.vocab_size: {CFG.vocab_size}\")\n",
    "\n",
    "# Update the top_k based on vocab size\n",
    "CFG.top_k = min(20, CFG.vocab_size) # ensure top_k is not greater than vocab_size\n",
    "print(f\"CFG.top_k: {CFG.top_k}\")\n"
   ]
  },
  {
   "cell_type": "markdown",
   "id": "46f2c429",
   "metadata": {},
   "source": [
    "\n",
    "### 2.2 Dataset & DataLoader\n",
    "We build tiny (input, target) pairs for next-char prediction.\n"
   ]
  },
  {
   "cell_type": "code",
   "execution_count": 15,
   "id": "feb31d0c",
   "metadata": {},
   "outputs": [
    {
     "data": {
      "text/plain": [
       "(24945, 10672)"
      ]
     },
     "execution_count": 15,
     "metadata": {},
     "output_type": "execute_result"
    }
   ],
   "source": [
    "\n",
    "class LMDataset(Dataset):\n",
    "    def __init__(self, text: str, tokenizer: CharTokenizer, context_len: int = 32, split: str = \"train\", train_frac: float = 0.7):\n",
    "        enc = tokenizer.encode(text)\n",
    "        n = int(len(enc) * train_frac)\n",
    "        if split == \"train\":\n",
    "            self.data = enc[:n]\n",
    "        else:\n",
    "            self.data = enc[n:]\n",
    "        self.context_len = context_len\n",
    "\n",
    "    def __len__(self):\n",
    "        return max(0, len(self.data) - self.context_len - 1)\n",
    "\n",
    "    def __getitem__(self, idx):\n",
    "        x = self.data[idx:idx+self.context_len]\n",
    "        y = self.data[idx+1:idx+self.context_len+1]\n",
    "        return torch.tensor(x, dtype=torch.long), torch.tensor(y, dtype=torch.long)\n",
    "\n",
    "train_ds = LMDataset(corpus_text, tokenizer, CFG.context_len, \"train\", CFG.train_frac)\n",
    "val_ds = LMDataset(corpus_text, tokenizer, CFG.context_len, \"val\", CFG.train_frac)\n",
    "\n",
    "train_loader = DataLoader(train_ds, batch_size=CFG.batch_size, shuffle=True, drop_last=True)\n",
    "val_loader = DataLoader(val_ds, batch_size=CFG.batch_size, shuffle=False, drop_last=True)\n",
    "\n",
    "len(train_ds), len(val_ds)\n"
   ]
  },
  {
   "cell_type": "markdown",
   "id": "a4ebccf0",
   "metadata": {},
   "source": [
    "\n",
    "## 3. Model: Tiny GPT-like (Character-level)\n",
    "Small causal self-attention stack for quick experiments.\n"
   ]
  },
  {
   "cell_type": "code",
   "execution_count": 16,
   "id": "dc9fee6a",
   "metadata": {},
   "outputs": [],
   "source": [
    "\n",
    "import math\n",
    "import torch\n",
    "import torch.nn as nn\n",
    "import torch.nn.functional as F\n",
    "\n",
    "class CausalSelfAttention(nn.Module):\n",
    "    def __init__(self, d_model, n_heads, dropout, context_len):\n",
    "        super().__init__()\n",
    "        assert d_model % n_heads == 0\n",
    "        self.n_heads = n_heads\n",
    "        self.head_dim = d_model // n_heads\n",
    "        self.qkv = nn.Linear(d_model, 3 * d_model)\n",
    "        self.proj = nn.Linear(d_model, d_model)\n",
    "        self.attn_drop = nn.Dropout(dropout)\n",
    "        self.resid_drop = nn.Dropout(dropout)\n",
    "        self.register_buffer(\"mask\", torch.tril(torch.ones(context_len, context_len)).unsqueeze(0).unsqueeze(0))\n",
    "\n",
    "    def forward(self, x):\n",
    "        B, T, C = x.shape\n",
    "        qkv = self.qkv(x)\n",
    "        q, k, v = qkv.split(C, dim=2)\n",
    "        q = q.view(B, T, self.n_heads, self.head_dim).transpose(1, 2)  # (B, nh, T, hs)\n",
    "        k = k.view(B, T, self.n_heads, self.head_dim).transpose(1, 2)\n",
    "        v = v.view(B, T, self.n_heads, self.head_dim).transpose(1, 2)\n",
    "\n",
    "        att = (q @ k.transpose(-2, -1)) / math.sqrt(self.head_dim)\n",
    "        att = att.masked_fill(self.mask[:, :, :T, :T] == 0, float('-inf'))\n",
    "        att = F.softmax(att, dim=-1)\n",
    "        att = self.attn_drop(att)\n",
    "        y = att @ v  # (B, nh, T, hs)\n",
    "        y = y.transpose(1, 2).contiguous().view(B, T, C)\n",
    "        y = self.resid_drop(self.proj(y))\n",
    "        return y\n",
    "\n",
    "class Block(nn.Module):\n",
    "    def __init__(self, d_model, n_heads, dropout, context_len):\n",
    "        super().__init__()\n",
    "        self.ln1 = nn.LayerNorm(d_model)\n",
    "        self.attn = CausalSelfAttention(d_model, n_heads, dropout, context_len)\n",
    "        self.ln2 = nn.LayerNorm(d_model)\n",
    "        self.mlp = nn.Sequential(\n",
    "            nn.Linear(d_model, 4*d_model),\n",
    "            nn.GELU(),\n",
    "            nn.Linear(4*d_model, d_model),\n",
    "            nn.Dropout(dropout),\n",
    "        )\n",
    "\n",
    "    def forward(self, x):\n",
    "        x = x + self.attn(self.ln1(x))\n",
    "        x = x + self.mlp(self.ln2(x))\n",
    "        return x\n",
    "\n",
    "class TinyGPT(nn.Module):\n",
    "    def __init__(self, vocab_size, d_model, n_layers, n_heads, dropout, context_len):\n",
    "        super().__init__()\n",
    "        self.tok_emb = nn.Embedding(vocab_size, d_model)\n",
    "        self.pos_emb = nn.Parameter(torch.zeros(1, context_len, d_model))\n",
    "        self.blocks = nn.ModuleList([Block(d_model, n_heads, dropout, context_len) for _ in range(n_layers)])\n",
    "        self.ln_f = nn.LayerNorm(d_model)\n",
    "        self.head = nn.Linear(d_model, vocab_size)\n",
    "\n",
    "        # init\n",
    "        self.apply(self._init_weights)\n",
    "\n",
    "    def _init_weights(self, module):\n",
    "        if isinstance(module, nn.Linear):\n",
    "            nn.init.normal_(module.weight, mean=0.0, std=0.02)\n",
    "            if module.bias is not None:\n",
    "                nn.init.zeros_(module.bias)\n",
    "        elif isinstance(module, nn.Embedding):\n",
    "            nn.init.normal_(module.weight, mean=0.0, std=0.02)\n",
    "\n",
    "    def forward(self, idx, targets=None):\n",
    "        B, T = idx.shape\n",
    "        x = self.tok_emb(idx) + self.pos_emb[:, :T, :]\n",
    "        for blk in self.blocks:\n",
    "            x = blk(x)\n",
    "        x = self.ln_f(x)\n",
    "        logits = self.head(x)  # (B, T, V)\n",
    "\n",
    "        loss = None\n",
    "        if targets is not None:\n",
    "            loss = F.cross_entropy(logits.view(-1, logits.size(-1)), targets.view(-1))\n",
    "        return logits, loss\n",
    "\n",
    "    @torch.no_grad()\n",
    "    def generate(self, idx, max_new_tokens=128, temperature=1.0, top_k=None):\n",
    "        for _ in range(max_new_tokens):\n",
    "            idx_cond = idx[:, -CFG.context_len:]\n",
    "            logits, _ = self.forward(idx_cond)\n",
    "            logits = logits[:, -1, :] / max(temperature, 1e-8)\n",
    "            if top_k is not None:\n",
    "                v, ix = torch.topk(logits, top_k)\n",
    "                mask = logits < v[:, [-1]]\n",
    "                logits[mask] = -float('Inf')\n",
    "            probs = F.softmax(logits, dim=-1)\n",
    "            next_id = torch.multinomial(probs, num_samples=1)\n",
    "            idx = torch.cat((idx, next_id), dim=1)\n",
    "        return idx\n"
   ]
  },
  {
   "cell_type": "markdown",
   "id": "af87155a",
   "metadata": {},
   "source": [
    "\n",
    "## 4. Utilities: Evaluation & Plotting\n"
   ]
  },
  {
   "cell_type": "code",
   "execution_count": 17,
   "id": "eb31557f",
   "metadata": {},
   "outputs": [],
   "source": [
    "\n",
    "def eval_loss(model, loader):\n",
    "    model.eval()\n",
    "    losses = []\n",
    "    with torch.no_grad():\n",
    "        for x, y in loader:\n",
    "            x, y = x.to(CFG.device), y.to(CFG.device)\n",
    "            _, loss = model(x, y)\n",
    "            losses.append(loss.item())\n",
    "    model.train()\n",
    "    return float(np.mean(losses)) if losses else float('nan')\n",
    "\n",
    "def perplexity(loss_val: float) -> float:\n",
    "    try:\n",
    "        return float(math.exp(loss_val))\n",
    "    except OverflowError:\n",
    "        return float('inf')\n",
    "\n",
    "def sample_text(model, prompt: str, max_new_tokens=128):\n",
    "    model.eval()\n",
    "    inp = torch.tensor([tokenizer.encode(prompt)], dtype=torch.long, device=CFG.device)\n",
    "    out = model.generate(inp, max_new_tokens=max_new_tokens, temperature=CFG.temperature, top_k=CFG.top_k)\n",
    "    return tokenizer.decode(out[0].tolist())\n",
    "\n",
    "def plot_losses(train_losses, val_losses, title=\"Training Curves\"):\n",
    "    plt.figure()\n",
    "    xs = list(range(len(train_losses)))\n",
    "    plt.plot(xs, train_losses, label=\"train\")\n",
    "    if val_losses:\n",
    "        plt.plot(xs, val_losses, label=\"val\")\n",
    "    plt.title(title)\n",
    "    plt.xlabel(\"Eval step (x{} steps)\".format(CFG.eval_every))\n",
    "    plt.ylabel(\"Loss\")\n",
    "    plt.legend()\n",
    "    plt.show()\n"
   ]
  },
  {
   "cell_type": "markdown",
   "id": "4300a618",
   "metadata": {},
   "source": [
    "5) Unsupervised LM"
   ]
  },
  {
   "cell_type": "code",
   "execution_count": 18,
   "id": "117c34c5",
   "metadata": {},
   "outputs": [
    {
     "name": "stderr",
     "output_type": "stream",
     "text": [
      "Pre-training:   0%|          | 0/500 [00:27<?, ?it/s, loss=2.04, val_loss=2.26]"
     ]
    },
    {
     "name": "stdout",
     "output_type": "stream",
     "text": [
      "Pre-train done. Train loss ~ 2.0376272201538086  Val loss ~ 2.257451835337344  PPL ~ 9.55870096336593\n"
     ]
    },
    {
     "name": "stderr",
     "output_type": "stream",
     "text": [
      "\n"
     ]
    },
    {
     "data": {
      "image/png": "[encoded data removed]",
      "text/plain": [
       "<Figure size 640x480 with 1 Axes>"
      ]
     },
     "metadata": {},
     "output_type": "display_data"
    },
    {
     "name": "stdout",
     "output_type": "stream",
     "text": [
      "To be reas one was and so the proked able sto in bets ifform ing the te mand to and charated for iticing the the fory was as \n"
     ]
    }
   ],
   "source": [
    "\n",
    "model_pre = TinyGPT(CFG.vocab_size, CFG.d_model, CFG.n_layers, CFG.n_heads, CFG.dropout, CFG.context_len).to(CFG.device)\n",
    "opt = torch.optim.AdamW(model_pre.parameters(), lr=CFG.lr)\n",
    "\n",
    "train_losses_pre, val_losses_pre = [], []\n",
    "step = 0\n",
    "pbar = tqdm(total=CFG.max_steps_pretrain, desc=\"Pre-training\")\n",
    "\n",
    "while step < CFG.max_steps_pretrain:\n",
    "    for x, y in train_loader:\n",
    "        x, y = x.to(CFG.device), y.to(CFG.device)\n",
    "        _, loss = model_pre(x, y)\n",
    "        opt.zero_grad(set_to_none=True)\n",
    "        loss.backward()\n",
    "        opt.step()\n",
    "        step += 1\n",
    "\n",
    "        if step % CFG.eval_every == 0 or step == 1:\n",
    "            vl = eval_loss(model_pre, val_loader)\n",
    "            train_losses_pre.append(loss.item())\n",
    "            val_losses_pre.append(vl)\n",
    "            pbar.set_postfix(loss=loss.item(), val_loss=vl)\n",
    "\n",
    "        if step >= CFG.max_steps_pretrain:\n",
    "            break\n",
    "pbar.close()\n",
    "\n",
    "pt_train_last = train_losses_pre[-1] if train_losses_pre else float('nan')\n",
    "pt_val_last = val_losses_pre[-1] if val_losses_pre else float('nan')\n",
    "print(\"Pre-train done. Train loss ~\", pt_train_last, \" Val loss ~\", pt_val_last, \" PPL ~\", perplexity(pt_val_last))\n",
    "plot_losses(train_losses_pre, val_losses_pre, title=\"Pre-training Curves\")\n",
    "print(sample_text(model_pre, prompt=\"To be\", max_new_tokens=120))\n"
   ]
  },
  {
   "cell_type": "markdown",
   "id": "0925e886",
   "metadata": {},
   "source": [
    "\n",
    "## 6. Supervised Fine-Tuning (SFT)\n",
    "We create a **tiny instruction-like dataset** of (prompt → completion).  \n",
    "We then **continue training** the pre-trained model on these pairs (next-token loss).\n",
    "\n",
    "> Tip: Replace `SFT_PAIRS` with your own pairs to study transfer.\n"
   ]
  },
  {
   "cell_type": "code",
   "execution_count": 19,
   "id": "94129106",
   "metadata": {},
   "outputs": [
    {
     "name": "stdout",
     "output_type": "stream",
     "text": [
      "Instruction: Write a short motto about learning:\n",
      "Answer: Learn, iterate, and grow.\n",
      "\n",
      "Instruction: Summarize: 'Neural nets learn patterns'.\n",
      "Answer: They learn patterns by adjusting weights.\n",
      "\n",
      "Instruction: Give a creative tagline for coffee:\n",
      "Answer: Sip ideas. Brew brilliance.\n",
      "\n",
      "Instruction: Explain: What is perplexity (1 sentence)?\n",
      "Answer: A measure of how well a language model predicts a sample.\n",
      "\n",
      "\n"
     ]
    },
    {
     "name": "stderr",
     "output_type": "stream",
     "text": [
      "SFT:   0%|          | 0/500 [00:03<?, ?it/s, loss=0.224, val_loss=nan]\n"
     ]
    },
    {
     "name": "stdout",
     "output_type": "stream",
     "text": [
      "SFT done. Train loss ~ 0.2236499935388565  Val loss ~ nan  PPL ~ nan\n"
     ]
    },
    {
     "data": {
      "image/png": "[encoded data removed]",
      "text/plain": [
       "<Figure size 640x480 with 1 Axes>"
      ]
     },
     "metadata": {},
     "output_type": "display_data"
    },
    {
     "name": "stdout",
     "output_type": "stream",
     "text": [
      "Sample before SFT (pretrained):\n",
      "Instruction: Give a creative tagline for coffee:\n",
      "Answer: the . Ints and the the to prropos to the copo the to the spor , the nich the ditirealke ars witrer the by . The the . T\n",
      "\n",
      "Sample after SFT:\n",
      "Instruction: Give a creative tagline for coffee:\n",
      "Answer: Learn, iterate, and grow.\n",
      "\n",
      "Instruction: Summmarize: 'Neural nets learn pattterns by adjusting weights.\n",
      "\n",
      "Instruction: Ex\n"
     ]
    }
   ],
   "source": [
    "\n",
    "SFT_PAIRS = [\n",
    "    (\"Write a short motto about learning:\", \" Learn, iterate, and grow.\"),\n",
    "    (\"Summarize: 'Neural nets learn patterns'.\", \" They learn patterns by adjusting weights.\"),\n",
    "    (\"Give a creative tagline for coffee:\", \" Sip ideas. Brew brilliance.\"),\n",
    "    (\"Explain: What is perplexity (1 sentence)?\", \" A measure of how well a language model predicts a sample.\"),\n",
    "]\n",
    "\n",
    "def build_sft_text(pairs: List[Tuple[str, str]]) -> str:\n",
    "    # Concatenate as instruction blocks to make conditional LM easy\n",
    "    blocks = []\n",
    "    for inp, out in pairs:\n",
    "        blocks.append(f\"Instruction: {inp}\\nAnswer:{out}\\n\\n\")\n",
    "    return \"\".join(blocks)\n",
    "\n",
    "sft_text = build_sft_text(SFT_PAIRS)\n",
    "print(sft_text)\n",
    "\n",
    "# Build tiny SFT dataset as LM on the concatenated text\n",
    "sft_train_ds = LMDataset(sft_text, tokenizer, CFG.context_len, \"train\", 0.9)\n",
    "sft_val_ds = LMDataset(sft_text, tokenizer, CFG.context_len, \"val\", 0.9)\n",
    "sft_train_loader = DataLoader(sft_train_ds, batch_size=CFG.batch_size, shuffle=True, drop_last=True)\n",
    "sft_val_loader = DataLoader(sft_val_ds, batch_size=CFG.batch_size, shuffle=False, drop_last=True)\n",
    "\n",
    "# Copy the pre-trained model weights\n",
    "model_sft = TinyGPT(CFG.vocab_size, CFG.d_model, CFG.n_layers, CFG.n_heads, CFG.dropout, CFG.context_len).to(CFG.device)\n",
    "model_sft.load_state_dict(model_pre.state_dict())\n",
    "opt_sft = torch.optim.AdamW(model_sft.parameters(), lr=CFG.lr)\n",
    "\n",
    "train_losses_sft, val_losses_sft = [], []\n",
    "step = 0\n",
    "pbar = tqdm(total=CFG.max_steps_sft, desc=\"SFT\")\n",
    "\n",
    "while step < CFG.max_steps_sft:\n",
    "    for x, y in sft_train_loader:\n",
    "        x, y = x.to(CFG.device), y.to(CFG.device)\n",
    "        _, loss = model_sft(x, y)\n",
    "        opt_sft.zero_grad(set_to_none=True)\n",
    "        loss.backward()\n",
    "        opt_sft.step()\n",
    "        step += 1\n",
    "\n",
    "        if step % CFG.eval_every == 0 or step == 1:\n",
    "            vl = eval_loss(model_sft, sft_val_loader)\n",
    "            train_losses_sft.append(loss.item())\n",
    "            val_losses_sft.append(vl)\n",
    "            pbar.set_postfix(loss=loss.item(), val_loss=vl)\n",
    "\n",
    "        if step >= CFG.max_steps_sft:\n",
    "            break\n",
    "pbar.close()\n",
    "\n",
    "sft_train_last = train_losses_sft[-1] if train_losses_sft else float('nan')\n",
    "sft_val_last = val_losses_sft[-1] if val_losses_sft else float('nan')\n",
    "print(\"SFT done. Train loss ~\", sft_train_last, \" Val loss ~\", sft_val_last, \" PPL ~\", perplexity(sft_val_last))\n",
    "plot_losses(train_losses_sft, val_losses_sft, title=\"SFT Curves\")\n",
    "\n",
    "print(\"Sample before SFT (pretrained):\")\n",
    "print(sample_text(model_pre, prompt=\"Instruction: Give a creative tagline for coffee:\\nAnswer:\", max_new_tokens=120))\n",
    "\n",
    "print(\"\\nSample after SFT:\")\n",
    "print(sample_text(model_sft, prompt=\"Instruction: Give a creative tagline for coffee:\\nAnswer:\", max_new_tokens=120))\n"
   ]
  },
  {
   "cell_type": "markdown",
   "id": "3c343746",
   "metadata": {},
   "source": [
    "# Report Questions (Answer in your 2–5 page PDF)\n",
    "\n",
    "### 1. Introduction (Objectives & Rationale)\n",
    "1. What training methods are you comparing in this assignment?  \n",
    "2. Why did you choose these methods and settings?  \n",
    "3. Were there any hardware or time constraints that influenced your choices?  \n",
    "\n",
    "### 2. Methods\n",
    "4. What dataset did you use (corpus size, preprocessing steps, train/validation split)?  \n",
    "5. What is the architecture of your model (layers, hidden size, heads, parameters)?  \n",
    "6. How did you train your models (steps, batch size, learning rate, optimizer)?  \n",
    "7. For SFT: How did you construct or curate your instruction–answer pairs?  \n",
    "8. For RL-lite: What reward function did you design and why?  \n",
    "\n",
    "### 3. Results\n",
    "9. What do your loss curves show for pre-training vs. SFT?  \n",
    "10. How do the perplexity scores compare across methods?  \n",
    "11. How do BLEU scores differ for the instruction prompts?  \n",
    "12. How do sample outputs change before SFT, after SFT, and after RL-lite? Provide examples.  \n",
    "\n",
    "### 4. Discussion\n",
    "13. How stable was the training process (convergence, fluctuations, instabilities)?  \n",
    "14. What transfer effects did you observe from pre-training to SFT?  \n",
    "15. What were the strengths and weaknesses of your RL-lite approach?  \n",
    "16. What were the main costs in terms of resources and time? If you scaled up, what would you change next?  \n",
    "\n",
    "### 5. Conclusion\n",
    "17. What are your key insights from comparing these training methods?  \n",
    "18. What practical recommendations would you make for someone building generative AI models based on your experiments?  \n",
    "\n",
    "## [Bonus] RL-lite with REINFORCE (Optional)\n",
    "**Toy** example: optimize the model to include a **keyword** in the completion and keep length near a **target**.\n",
    "\n"
   ]
  },
  {
   "cell_type": "markdown",
   "id": "bae800af",
   "metadata": {},
   "source": [
    "\n",
    "## Submission Checklist\n",
    "- [ ] Notebook runs end-to-end (or with clear notes where you modified).\n",
    "- [ ] 2–5 page PDF report with figures & tables.\n",
    "- [ ] Upload files to Canvas: **PDF + .ipynb** (include your GitHub link).\n",
    "\n"
   ]
  }
 ],
 "metadata": {
  "kernelspec": {
   "display_name": "base",
   "language": "python",
   "name": "python3"
  },
  "language_info": {
   "codemirror_mode": {
    "name": "ipython",
    "version": 3
   },
   "file_extension": ".py",
   "mimetype": "text/x-python",
   "name": "python",
   "nbconvert_exporter": "python",
   "pygments_lexer": "ipython3",
   "version": "3.13.5"
  }
 },
 "nbformat": 4,
 "nbformat_minor": 5
}
