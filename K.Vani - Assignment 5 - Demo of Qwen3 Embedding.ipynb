{
 "cells": [
  {
   "cell_type": "markdown",
   "id": "f018d59c",
   "metadata": {},
   "source": [
    "Model: Qwen3 Embedding"
   ]
  },
  {
   "cell_type": "markdown",
   "id": "303497d4",
   "metadata": {},
   "source": [
    "1. Install"
   ]
  },
  {
   "cell_type": "code",
   "execution_count": 1,
   "id": "fcff0be7",
   "metadata": {},
   "outputs": [
    {
     "name": "stdout",
     "output_type": "stream",
     "text": [
      "zsh:1: no matches found: transformers[torch]\n"
     ]
    }
   ],
   "source": [
    "!pip -q install transformers[torch] scipy"
   ]
  },
  {
   "cell_type": "markdown",
   "id": "b1c6f574",
   "metadata": {},
   "source": [
    "2. Imports"
   ]
  },
  {
   "cell_type": "code",
   "execution_count": 3,
   "id": "c6ff05ab",
   "metadata": {},
   "outputs": [
    {
     "name": "stdout",
     "output_type": "stream",
     "text": [
      "Device: cpu\n"
     ]
    }
   ],
   "source": [
    "import torch\n",
    "import numpy as np\n",
    "from transformers import AutoTokenizer, AutoModel\n",
    "from scipy.spatial.distance import cdist\n",
    "\n",
    "device = \"cuda\" if torch.cuda.is_available() else \"cpu\"\n",
    "print(\"Device:\", device)\n"
   ]
  },
  {
   "cell_type": "markdown",
   "id": "d48576aa",
   "metadata": {},
   "source": [
    "3. Load Model (Qwen3 Embedding Model)"
   ]
  },
  {
   "cell_type": "code",
   "execution_count": 4,
   "id": "e92b7cfb",
   "metadata": {},
   "outputs": [
    {
     "data": {
      "application/vnd.jupyter.widget-view+json": {
       "model_id": "5f61a556590b4029a68559240573e938",
       "version_major": 2,
       "version_minor": 0
      },
      "text/plain": [
       "tokenizer_config.json: 0.00B [00:00, ?B/s]"
      ]
     },
     "metadata": {},
     "output_type": "display_data"
    },
    {
     "data": {
      "application/vnd.jupyter.widget-view+json": {
       "model_id": "6eee3ad3ec934a1d8b6cf6748b8af856",
       "version_major": 2,
       "version_minor": 0
      },
      "text/plain": [
       "vocab.json: 0.00B [00:00, ?B/s]"
      ]
     },
     "metadata": {},
     "output_type": "display_data"
    },
    {
     "data": {
      "application/vnd.jupyter.widget-view+json": {
       "model_id": "321f3191b8314cff86bee048d05a3c33",
       "version_major": 2,
       "version_minor": 0
      },
      "text/plain": [
       "merges.txt: 0.00B [00:00, ?B/s]"
      ]
     },
     "metadata": {},
     "output_type": "display_data"
    },
    {
     "data": {
      "application/vnd.jupyter.widget-view+json": {
       "model_id": "d2308af9d4974dbcb107c2f519efc209",
       "version_major": 2,
       "version_minor": 0
      },
      "text/plain": [
       "tokenizer.json:   0%|          | 0.00/11.4M [00:00<?, ?B/s]"
      ]
     },
     "metadata": {},
     "output_type": "display_data"
    },
    {
     "data": {
      "application/vnd.jupyter.widget-view+json": {
       "model_id": "07d8689b4f734725a7864521998d60de",
       "version_major": 2,
       "version_minor": 0
      },
      "text/plain": [
       "config.json:   0%|          | 0.00/727 [00:00<?, ?B/s]"
      ]
     },
     "metadata": {},
     "output_type": "display_data"
    },
    {
     "data": {
      "application/vnd.jupyter.widget-view+json": {
       "model_id": "284e9ff7b8454a8b8876c52512d4fd0f",
       "version_major": 2,
       "version_minor": 0
      },
      "text/plain": [
       "model.safetensors:   0%|          | 0.00/1.19G [00:00<?, ?B/s]"
      ]
     },
     "metadata": {},
     "output_type": "display_data"
    }
   ],
   "source": [
    "MODEL = \"Qwen/Qwen3-Embedding-0.6B\"\n",
    "tokenizer = AutoTokenizer.from_pretrained(MODEL, use_fast=True)\n",
    "model = AutoModel.from_pretrained(MODEL).to(device)\n",
    "model.eval()\n",
    "\n",
    "# Helper: compute mean-pooled embedding (example; model card may recommend specific pooling)\n",
    "def get_embedding(text, tokenizer, model, device, max_length=128):\n",
    "    inputs = tokenizer(text, return_tensors=\"pt\", truncation=True, padding=True, max_length=max_length).to(device)\n",
    "    with torch.no_grad():\n",
    "        outputs = model(**inputs, return_dict=True)\n",
    "    # outputs.last_hidden_state shape: (1, seq_len, dim)\n",
    "    last_hidden = outputs.last_hidden_state[0]  # (seq_len, dim)\n",
    "    # mean pool over tokens (excluding padding)\n",
    "    attention_mask = inputs['attention_mask'][0].unsqueeze(-1)\n",
    "    masked = last_hidden * attention_mask\n",
    "    summed = masked.sum(0)\n",
    "    denom = attention_mask.sum(0).clamp(min=1e-9)\n",
    "    emb = (summed / denom).cpu().numpy()\n",
    "    # normalize\n",
    "    emb = emb / (np.linalg.norm(emb) + 1e-10)\n",
    "    return emb"
   ]
  },
  {
   "cell_type": "markdown",
   "id": "24e009b3",
   "metadata": {},
   "source": [
    "4. Small Dataset - Demo Retrieval"
   ]
  },
  {
   "cell_type": "code",
   "execution_count": 5,
   "id": "e161f22e",
   "metadata": {},
   "outputs": [
    {
     "name": "stdout",
     "output_type": "stream",
     "text": [
      "Ranked results (highest similarity first):\n",
      "0.7225  ->  Khashayar lives in Boston and pursue his Ph.D at Northeastern University.\n",
      "0.5736  ->  Professor Barut is a AI engineer who is intersted in Neural Networks.\n",
      "0.5460  ->  Carol is a data scientist focusing on NLP and embeddings.\n",
      "0.4912  ->  This document explains how to cook pasta in 10 minutes.\n"
     ]
    }
   ],
   "source": [
    "docs = [\n",
    "    \"Khashayar lives in Boston and pursue his Ph.D at Northeastern University.\",\n",
    "    \"Professor Barut is a AI engineer who is intersted in Neural Networks.\",\n",
    "    \"Carol is a data scientist focusing on NLP and embeddings.\",\n",
    "    \"This document explains how to cook pasta in 10 minutes.\"\n",
    "]\n",
    "\n",
    "query = \"Who lives in Boston?\"\n",
    "query_emb = get_embedding(query, tokenizer, model, device)\n",
    "\n",
    "doc_embs = [get_embedding(d, tokenizer, model, device) for d in docs]\n",
    "\n",
    "# cosine similarities\n",
    "sims = 1 - cdist([query_emb], doc_embs, metric=\"cosine\")[0]\n",
    "ranked = sorted(list(zip(docs, sims)), key=lambda x: x[1], reverse=True)\n",
    "print(\"Ranked results (highest similarity first):\")\n",
    "for doc, score in ranked:\n",
    "    print(f\"{score:.4f}  ->  {doc}\")"
   ]
  },
  {
   "cell_type": "markdown",
   "id": "7b2edd74",
   "metadata": {},
   "source": [
    "5. Reranking Example: Combine sparse retrieval + Embedding Rerank"
   ]
  },
  {
   "cell_type": "code",
   "execution_count": 7,
   "id": "2e9ab90a",
   "metadata": {},
   "outputs": [
    {
     "name": "stderr",
     "output_type": "stream",
     "text": [
      "huggingface/tokenizers: The current process just got forked, after parallelism has already been used. Disabling parallelism to avoid deadlocks...\n",
      "To disable this warning, you can either:\n",
      "\t- Avoid using `tokenizers` before the fork if possible\n",
      "\t- Explicitly set the environment variable TOKENIZERS_PARALLELISM=(true | false)\n"
     ]
    },
    {
     "name": "stdout",
     "output_type": "stream",
     "text": [
      "Collecting faiss-cpu\n",
      "  Downloading faiss_cpu-1.12.0-cp313-cp313-macosx_14_0_arm64.whl.metadata (5.1 kB)\n",
      "Requirement already satisfied: numpy<3.0,>=1.25.0 in /opt/anaconda3/lib/python3.13/site-packages (from faiss-cpu) (2.1.3)\n",
      "Requirement already satisfied: packaging in /opt/anaconda3/lib/python3.13/site-packages (from faiss-cpu) (24.2)\n",
      "Downloading faiss_cpu-1.12.0-cp313-cp313-macosx_14_0_arm64.whl (3.4 MB)\n",
      "\u001b[2K   \u001b[90m━━━━━━━━━━━━━━━━━━━━━━━━━━━━━━━━━━━━━━━━\u001b[0m \u001b[32m3.4/3.4 MB\u001b[0m \u001b[31m11.6 MB/s\u001b[0m eta \u001b[36m0:00:00\u001b[0m \u001b[36m0:00:01\u001b[0m\n",
      "\u001b[?25hInstalling collected packages: faiss-cpu\n",
      "Successfully installed faiss-cpu-1.12.0\n"
     ]
    }
   ],
   "source": [
    "!pip install faiss-cpu\n"
   ]
  },
  {
   "cell_type": "code",
   "execution_count": 14,
   "id": "89aa65bd",
   "metadata": {},
   "outputs": [],
   "source": [
    "# Retrieval + Reranking Example\n",
    "\n",
    "from transformers import AutoTokenizer, AutoModel\n",
    "import faiss\n",
    "import numpy as np\n",
    "import torch\n",
    "\n",
    "# Load model & tokenizer\n",
    "model_id = \"Qwen/Qwen3-Embedding-0.6B\"\n",
    "\n",
    "from transformers import AutoTokenizer, AutoModel\n",
    "\n",
    "model_id = \"Qwen/Qwen3-Embedding-0.6B\"\n",
    "\n",
    "# Load tokenizer\n",
    "tokenizer = AutoTokenizer.from_pretrained(model_id)\n",
    "\n",
    "# Load model\n",
    "model = AutoModel.from_pretrained(model_id)\n",
    "\n",
    "\n",
    "# Example documents\n",
    "documents = [\n",
    "    \"Qwen embeddings are powerful for semantic search.\",\n",
    "    \"Pix2Struct can parse screenshots into structured text.\",\n",
    "    \"Transformers have revolutionized NLP in the last decade.\",\n",
    "    \"FAISS is used for efficient similarity search.\",\n",
    "    \"Qwen3 improves multilingual understanding significantly.\"\n",
    "]\n",
    "\n",
    "# Embed documents\n",
    "def get_embeddings(texts):\n",
    "    inputs = tokenizer(texts, padding=True, truncation=True, return_tensors=\"pt\")\n",
    "    with torch.no_grad():\n",
    "        outputs = model(**inputs)\n",
    "        # CLS token representation as embedding\n",
    "        embeddings = outputs.last_hidden_state[:, 0, :].cpu().numpy()\n",
    "    return embeddings\n",
    "\n",
    "doc_embeddings = get_embeddings(documents)\n",
    "\n",
    "# Build FAISS index\n",
    "dim = doc_embeddings.shape[1]\n",
    "index = faiss.IndexFlatL2(dim)  # L2 distance\n",
    "index.add(doc_embeddings)\n",
    "\n",
    "# Query\n",
    "query = \"Which models are good for screenshot parsing?\"\n",
    "query_emb = get_embeddings([query])\n",
    "\n",
    "# Retrieve top-K\n",
    "k = 3\n",
    "\n",
    "\n"
   ]
  }
 ],
 "metadata": {
  "kernelspec": {
   "display_name": "base",
   "language": "python",
   "name": "python3"
  },
  "language_info": {
   "codemirror_mode": {
    "name": "ipython",
    "version": 3
   },
   "file_extension": ".py",
   "mimetype": "text/x-python",
   "name": "python",
   "nbconvert_exporter": "python",
   "pygments_lexer": "ipython3",
   "version": "3.13.5"
  }
 },
 "nbformat": 4,
 "nbformat_minor": 5
}
